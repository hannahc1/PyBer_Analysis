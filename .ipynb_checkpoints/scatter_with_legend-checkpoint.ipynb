{
 "cells": [
  {
   "cell_type": "code",
   "execution_count": null,
   "metadata": {},
   "outputs": [],
   "source": [
    "%matplotlib inline"
   ]
  },
  {
   "cell_type": "markdown",
   "metadata": {},
   "source": [
    "\n",
    "# Scatter plots with a legend\n",
    "\n",
    "\n",
    "To create a scatter plot with a legend one may use a loop and create one\n",
    "`~.Axes.scatter` plot per item to appear in the legend and set the ``label``\n",
    "accordingly.\n",
    "\n",
    "The following also demonstrates how transparency of the markers\n",
    "can be adjusted by giving ``alpha`` a value between 0 and 1.\n"
   ]
  },
  {
   "cell_type": "code",
   "execution_count": null,
   "metadata": {},
   "outputs": [],
   "source": [
    "import numpy as np\n",
    "np.random.seed(19680801)\n",
    "import matplotlib.pyplot as plt\n",
    "\n",
    "\n",
    "fig, ax = plt.subplots()\n",
    "for color in ['tab:blue', 'tab:orange', 'tab:green']:\n",
    "    n = 750\n",
    "    x, y = np.random.rand(2, n)\n",
    "    scale = 200.0 * np.random.rand(n)\n",
    "    ax.scatter(x, y, c=color, s=scale, label=color,\n",
    "               alpha=0.3, edgecolors='none')\n",
    "\n",
    "ax.legend()\n",
    "ax.grid(True)\n",
    "\n",
    "plt.show()"
   ]
  },
  {
   "cell_type": "markdown",
   "metadata": {},
   "source": [
    "\n",
    "Automated legend creation\n",
    "-------------------------\n",
    "\n",
    "Another option for creating a legend for a scatter is to use the\n",
    ":class:`~matplotlib.collections.PathCollection`'s\n",
    ":meth:`~.PathCollection.legend_elements` method.\n",
    "It will automatically try to determine a useful number of legend entries\n",
    "to be shown and return a tuple of handles and labels. Those can be passed\n",
    "to the call to :meth:`~.axes.Axes.legend`.\n",
    "\n"
   ]
  },
  {
   "cell_type": "code",
   "execution_count": null,
   "metadata": {},
   "outputs": [],
   "source": [
    "N = 45\n",
    "x, y = np.random.rand(2, N)\n",
    "c = np.random.randint(1, 5, size=N)\n",
    "s = np.random.randint(10, 220, size=N)\n",
    "\n",
    "fig, ax = plt.subplots()\n",
    "\n",
    "scatter = ax.scatter(x, y, c=c, s=s)\n",
    "\n",
    "# produce a legend with the unique colors from the scatter\n",
    "legend1 = ax.legend(*scatter.legend_elements(),\n",
    "                    loc=\"lower left\", title=\"Classes\")\n",
    "ax.add_artist(legend1)\n",
    "\n",
    "# produce a legend with a cross section of sizes from the scatter\n",
    "handles, labels = scatter.legend_elements(prop=\"sizes\", alpha=0.6)\n",
    "legend2 = ax.legend(handles, labels, loc=\"upper right\", title=\"Sizes\")\n",
    "\n",
    "plt.show()"
   ]
  },
  {
   "cell_type": "markdown",
   "metadata": {},
   "source": [
    "Further arguments to the :meth:`~.PathCollection.legend_elements` method\n",
    "can be used to steer how many legend entries are to be created and how they\n",
    "should be labeled. The following shows how to use some of them.\n",
    "\n",
    "\n"
   ]
  },
  {
   "cell_type": "code",
   "execution_count": null,
   "metadata": {},
   "outputs": [],
   "source": [
    "volume = np.random.rayleigh(27, size=40)\n",
    "amount = np.random.poisson(10, size=40)\n",
    "ranking = np.random.normal(size=40)\n",
    "price = np.random.uniform(1, 10, size=40)\n",
    "\n",
    "fig, ax = plt.subplots()\n",
    "\n",
    "# Because the price is much too small when being provided as size for ``s``,\n",
    "# we normalize it to some useful point sizes, s=0.3*(price*3)**2\n",
    "scatter = ax.scatter(volume, amount, c=ranking, s=0.3*(price*3)**2,\n",
    "                     vmin=-3, vmax=3, cmap=\"Spectral\")\n",
    "\n",
    "# Produce a legend for the ranking (colors). Even though there are 40 different\n",
    "# rankings, we only want to show 5 of them in the legend.\n",
    "legend1 = ax.legend(*scatter.legend_elements(num=5),\n",
    "                    loc=\"upper left\", title=\"Ranking\")\n",
    "ax.add_artist(legend1)\n",
    "\n",
    "# Produce a legend for the price (sizes). Because we want to show the prices\n",
    "# in dollars, we use the *func* argument to supply the inverse of the function\n",
    "# used to calculate the sizes from above. The *fmt* ensures to show the price\n",
    "# in dollars. Note how we target at 5 elements here, but obtain only 4 in the\n",
    "# created legend due to the automatic round prices that are chosen for us.\n",
    "kw = dict(prop=\"sizes\", num=5, color=scatter.cmap(0.7), fmt=\"$ {x:.2f}\",\n",
    "          func=lambda s: np.sqrt(s/.3)/3)\n",
    "legend2 = ax.legend(*scatter.legend_elements(**kw),\n",
    "                    loc=\"lower right\", title=\"Price\")\n",
    "\n",
    "plt.show()"
   ]
  },
  {
   "cell_type": "markdown",
   "metadata": {},
   "source": [
    "------------\n",
    "\n",
    "References\n",
    "\"\"\"\"\"\"\"\"\"\"\n",
    "\n",
    "The usage of the following functions and methods is shown in this example:\n",
    "\n"
   ]
  },
  {
   "cell_type": "code",
   "execution_count": null,
   "metadata": {},
   "outputs": [],
   "source": [
    "import matplotlib\n",
    "matplotlib.axes.Axes.scatter\n",
    "matplotlib.pyplot.scatter\n",
    "matplotlib.axes.Axes.legend\n",
    "matplotlib.pyplot.legend\n",
    "matplotlib.collections.PathCollection.legend_elements"
   ]
  }
 ],
 "metadata": {
  "kernelspec": {
   "display_name": "Python 3",
   "language": "python",
   "name": "python3"
  },
  "language_info": {
   "codemirror_mode": {
    "name": "ipython",
    "version": 3
   },
   "file_extension": ".py",
   "mimetype": "text/x-python",
   "name": "python",
   "nbconvert_exporter": "python",
   "pygments_lexer": "ipython3",
   "version": "3.7.7"
  }
 },
 "nbformat": 4,
 "nbformat_minor": 1
}
